{
 "cells": [
  {
   "cell_type": "code",
   "execution_count": null,
   "metadata": {},
   "outputs": [],
   "source": [
    "!pip install praw\n",
    "!pip install --upgrade praw\n",
    "!pip install clipboard\n",
    "!pip install psutil"
   ]
  },
  {
   "cell_type": "code",
   "execution_count": 4,
   "metadata": {},
   "outputs": [],
   "source": [
    "import pandas as pd\n",
    "from datetime import datetime\n",
    "import copy\n",
    "import clipboard\n",
    "import praw\n",
    "from __future__ import print_function\n",
    "import psutil\n"
   ]
  },
  {
   "cell_type": "code",
   "execution_count": 33,
   "metadata": {},
   "outputs": [
    {
     "name": "stderr",
     "output_type": "stream",
     "text": [
      "Version 7.5.0 of praw is outdated. Version 7.6.0 was released 14 hours ago.\n"
     ]
    }
   ],
   "source": [
    "reddit = praw.Reddit(client_id='BN1EFBxMG1Ju-A', client_secret='Gaq8ghfYzvrK-Or1UNTLuiaLUV4vkA', user_agent='Chrome')"
   ]
  },
  {
   "cell_type": "code",
   "execution_count": 20,
   "metadata": {},
   "outputs": [],
   "source": [
    "posts = pd.read_csv('comments_1.csv') "
   ]
  },
  {
   "cell_type": "code",
   "execution_count": 24,
   "metadata": {},
   "outputs": [
    {
     "name": "stdout",
     "output_type": "stream",
     "text": [
      "memory % used: 49.5\n"
     ]
    }
   ],
   "source": [
    "#Get ram usage\n",
    "print('memory % used:', psutil.virtual_memory()[2])\n",
    "ram_percent = psutil.virtual_memory()[2]"
   ]
  },
  {
   "cell_type": "code",
   "execution_count": 34,
   "metadata": {},
   "outputs": [
    {
     "name": "stdout",
     "output_type": "stream",
     "text": [
      "0 "
     ]
    }
   ],
   "source": [
    "comments = []\n",
    "ids = []\n",
    "name_index = 0\n",
    "for i in range(len(posts)):\n",
    "    if i % 1000 == 0:\n",
    "        print(i, end= ' ')\n",
    "    id = posts.reset_index()[\"Post ID\"][i]\n",
    "    ids.append(id)\n",
    "    text = ''    \n",
    "    submission = reddit.submission(id=id)\n",
    "    submission.comments.replace_more(limit=None)\n",
    "    for comment in submission.comments.list():\n",
    "            try:\n",
    "                #print(comment.body)\n",
    "                text += \" \" + comment.body\n",
    "            except:\n",
    "                continue\n",
    "    comments.append(text)\n",
    "    ram_percent = psutil.virtual_memory()[2]\n",
    "    if ram_percent > 70:\n",
    "        df = pd.DataFrame(list(zip(ids, comments)), columns =['Post ID', 'Comments'])\n",
    "        df.to_csv(\"comments_\"+str(name_index)+\".csv\")\n",
    "        name_index += 1\n",
    "        del(df)\n",
    "        del(comments)\n",
    "        del(ids)\n",
    "        comments = []\n",
    "        ids = []\n",
    "        \n",
    "df = pd.DataFrame(list(zip(ids, comments)), columns =['Post ID', 'Comments'])\n",
    "df.to_csv(\"comments_\"+str(name_index)+\".csv\")\n",
    "    \n"
   ]
  }
 ],
 "metadata": {
  "interpreter": {
   "hash": "bb63a77499ed5899fffa71b49f0fc3f4df2c625891c3993c985b13a523c87e61"
  },
  "kernelspec": {
   "display_name": "Python 3.10.2 64-bit",
   "language": "python",
   "name": "python3"
  },
  "language_info": {
   "codemirror_mode": {
    "name": "ipython",
    "version": 3
   },
   "file_extension": ".py",
   "mimetype": "text/x-python",
   "name": "python",
   "nbconvert_exporter": "python",
   "pygments_lexer": "ipython3",
   "version": "3.10.2"
  },
  "orig_nbformat": 4
 },
 "nbformat": 4,
 "nbformat_minor": 2
}
