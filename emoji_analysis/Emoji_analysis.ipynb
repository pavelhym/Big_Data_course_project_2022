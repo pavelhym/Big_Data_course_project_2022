{
  "cells": [
    {
      "cell_type": "code",
      "execution_count": null,
      "metadata": {
        "colab": {
          "base_uri": "https://localhost:8080/"
        },
        "id": "46jSIBfFwo-I",
        "outputId": "98b3c893-3db9-4be5-b8aa-aa80f4e63397"
      },
      "outputs": [
        {
          "name": "stdout",
          "output_type": "stream",
          "text": [
            "Looking in indexes: https://pypi.org/simple, https://us-python.pkg.dev/colab-wheels/public/simple/\n",
            "Requirement already satisfied: pyspark in /usr/local/lib/python3.7/dist-packages (3.2.1)\n",
            "Requirement already satisfied: py4j==0.10.9.3 in /usr/local/lib/python3.7/dist-packages (from pyspark) (0.10.9.3)\n"
          ]
        }
      ],
      "source": [
        "!pip install pyspark"
      ]
    },
    {
      "cell_type": "code",
      "execution_count": null,
      "metadata": {
        "id": "g3t2h6W-Xwpg"
      },
      "outputs": [],
      "source": [
        "from pyspark.sql import SparkSession\n",
        "from pyspark.sql import functions as F\n",
        "from pyspark.sql.types import IntegerType\n",
        "import socket\n",
        "\n",
        "from pyspark.sql.functions import pandas_udf\n",
        "import pandas as pd\n",
        "from pyspark.sql.functions import desc, col, explode, collect_list, max, when, size\n",
        "\n",
        "\n",
        "import pandas as pd\n",
        "import numpy as np\n",
        "\n",
        "import re\n",
        "from pyspark.sql.types import ArrayType, StringType"
      ]
    },
    {
      "cell_type": "code",
      "execution_count": null,
      "metadata": {
        "id": "vQE1PGQywhlC"
      },
      "outputs": [],
      "source": [
        "from pyspark import SparkContext, SparkConf"
      ]
    },
    {
      "cell_type": "code",
      "execution_count": null,
      "metadata": {
        "id": "2jDjIHOivHh0"
      },
      "outputs": [],
      "source": [
        "from pyspark.sql import SparkSession\n",
        "spark = SparkSession.builder \\\n",
        "    .appName(\"github_csv\") \\\n",
        "        .getOrCreate()"
      ]
    },
    {
      "cell_type": "code",
      "execution_count": null,
      "metadata": {
        "id": "sUaSBKjgL5sd"
      },
      "outputs": [],
      "source": [
        "df_new =spark.read.option(\"delimiter\", \",\").option(\"header\", \"true\").option(\"multiline\", \"true\").option(\"escape\", \"\\\\\").option(\"escape\", '\"').option(\"quote\", '\"').csv(\"storage/GME_with_comments_groupped_text.csv\")\n"
      ]
    },
    {
      "cell_type": "code",
      "execution_count": null,
      "metadata": {
        "colab": {
          "base_uri": "https://localhost:8080/"
        },
        "id": "ZztfZ5PyxGnL",
        "outputId": "73739e68-585e-4707-df47-8fe151eebf69"
      },
      "outputs": [
        {
          "name": "stdout",
          "output_type": "stream",
          "text": [
            "+---+----------+----------+------+------------+---------+--------------------+--------------------+--------------------+----------+----------+----------+----------+----------+-----------+--------------------+\n",
            "|_c0|Unnamed: 0|      date| likes|comments_num|posts_num|              titles|            comments|            selftext|      Open|      High|       Low|     Close| Adj Close|     Volume|                text|\n",
            "+---+----------+----------+------+------------+---------+--------------------+--------------------+--------------------+----------+----------+----------+----------+----------+-----------+--------------------+\n",
            "|  0|       435|2021-09-21|    12|        2304|       12|Update on GME AMC...| Your submission ...|      \\nYour dail...|199.360001|199.360001|     186.0|189.949997|189.949997|  2633800.0|Update on GME AMC...|\n",
            "|  1|       103|2020-10-06|     0|           3|        1|    PUTS ON GAMESTOP| I know most of y...|[https://www.yout...|      9.56|      9.84|       9.1|      9.13|      9.13|  4535400.0|PUTS ON GAMESTOP ...|\n",
            "|  2|       202|2021-01-15|  6863|       21589|      932|GME and WSB in Th...|    Nobody tell h...|      [removed] [...| 38.490002|     40.75| 34.009998|      35.5|      35.5| 46866400.0|GME and WSB in Th...|\n",
            "|  3|       511|2021-12-06|    12|          35|       12|GameStop: The Cod...| \\n**User Report*...|So some guy tilte...|     166.0|173.339996|163.199997|167.119995|167.119995|  2228600.0|GameStop: The Cod...|\n",
            "|  4|       448|2021-10-04|    20|         890|       20|Can you spot wher...| Your submission ...|  **NO POSITION H...|175.949997|176.949997|170.770004|171.360001|171.360001|  1195700.0|Can you spot wher...|\n",
            "|  5|       253|2021-03-11|  1590|       96734|     1445|Friends and Famil...|    The title tel...|   All you paper ...|241.639999|     281.5|232.600006|     260.0|     260.0| 28312500.0|Friends and Famil...|\n",
            "|  6|       210|2021-01-23|  1269|       50541|     1255|$EXPR is the new ...| Hey! Your post h...|[removed] [remove...|     42.59| 76.760002|     42.32| 65.010002| 65.010002|197157900.0|$EXPR is the new ...|\n",
            "|  7|       507|2021-12-02|    18|          42|       18|Took some GME gai...| \\n**User Report*...|    I have no way...|     185.0|187.429993|173.070007|181.559998|181.559998|  2087100.0|Took some GME gai...|\n",
            "|  8|       241|2021-02-25|408638|      354892|     3906|GME suspended on ...| so you want to u...| [removed] [delet...|169.559998|184.679993|     101.0|108.730003|108.730003|150308800.0|GME suspended on ...|\n",
            "|  9|         6|2020-03-18|     4|           1|        4|From r/all $GME P...|    Fuck, he must...|                    |       4.1|      4.25|       3.5|      3.77|      3.77|  3651700.0|From r/all $GME P...|\n",
            "| 10|       597|2022-03-02|    12|          10|       12|Below is a messag...| I am a bot from ...| [removed]  [remo...|     119.5|122.669998|116.370003|121.970001|121.970001|  1310700.0|Below is a messag...|\n",
            "| 11|       238|2021-02-22|   592|       33646|      383|Was going to post...| This is the way,...|   [removed] [rem...| 46.689999| 48.509998| 42.400002|      46.0|      46.0| 19476000.0|Was going to post...|\n",
            "| 12|       584|2022-02-17|    12|          18|       12|Paper on GME Shor...| Wow. Great conve...|[removed]  [remov...|126.769997|130.850006|122.220001|123.410004|123.410004|  1564100.0|Paper on GME Shor...|\n",
            "| 13|       239|2021-02-23| 56348|       43671|      353|we have to send t...|     Nobody tell ...|   [removed]     ...| 44.970001|     46.23|      40.0| 44.970001| 44.970001|  7565200.0|we have to send t...|\n",
            "| 14|       462|2021-10-18|    19|         195|       19|NXTD the next GME...| Impressed by the...|Insanely small ma...|182.940002|189.869995|182.550003|186.020004|186.020004|  1589600.0|NXTD the next GME...|\n",
            "| 15|        53|2020-06-11|     4|           4|        4|Yesterday after h...|  In order to pro...|[deleted] [delete...|      4.64|       4.9|      4.18|      4.37|      4.37|  6236000.0|Yesterday after h...|\n",
            "| 16|        14|2020-03-27|     9|          91|        6|Gamestop GME earn...| Stock will go up...|Stay strong my 🌈...|      4.94|      5.09|      4.15|      4.22|      4.22|  7024800.0|Gamestop GME earn...|\n",
            "| 17|       340|2021-06-18|   697|         722|       59|why AMC is expect...| Your submission ...|[removed]  [delet...|220.179993|223.490005|     213.0|213.820007|213.820007|  4320300.0|why AMC is expect...|\n",
            "| 18|       285|2021-04-24|    60|          87|       60|Good Omens! Games...|  So we’re doing ...|   [removed]   I ...|     149.0|153.660004|144.699997|151.179993|151.179993|  4029100.0|Good Omens! Games...|\n",
            "| 19|       343|2021-06-21|    91|        1298|       64|Buy WISH Stock Be...| I am a bot from ...| Just a confirmat...|216.949997|218.399994|     197.0|200.369995|200.369995|  5120200.0|Buy WISH Stock Be...|\n",
            "+---+----------+----------+------+------------+---------+--------------------+--------------------+--------------------+----------+----------+----------+----------+----------+-----------+--------------------+\n",
            "only showing top 20 rows\n",
            "\n"
          ]
        }
      ],
      "source": [
        "df_new.show()"
      ]
    },
    {
      "cell_type": "code",
      "execution_count": null,
      "metadata": {
        "id": "ZlOIDHCbGEFI"
      },
      "outputs": [],
      "source": [
        "df_emotions = spark.read.option(\"header\", \"true\").csv('emojies_data/Emoji_Sentiment_Data_v1.0.csv')"
      ]
    },
    {
      "cell_type": "code",
      "execution_count": null,
      "metadata": {
        "colab": {
          "base_uri": "https://localhost:8080/"
        },
        "id": "P-9p-LRcXnv_",
        "outputId": "068ca737-7dcd-46a6-b8aa-ac83f09d21c9"
      },
      "outputs": [
        {
          "name": "stdout",
          "output_type": "stream",
          "text": [
            "+-----+-----------------+-----------+-----------+--------+-------+--------+--------------------+--------------------+--------+\n",
            "|Emoji|Unicode codepoint|Occurrences|   Position|Negative|Neutral|Positive|        Unicode name|       Unicode block|Category|\n",
            "+-----+-----------------+-----------+-----------+--------+-------+--------+--------------------+--------------------+--------+\n",
            "|   😂|          0x1f602|      14622|0.805100583|    3614|   4163|    6845|FACE WITH TEARS O...|           Emoticons|positive|\n",
            "|    ❤|           0x2764|       8050|0.746943086|     355|   1334|    6361|   HEAVY BLACK HEART|            Dingbats|positive|\n",
            "|    ♥|           0x2665|       7144|0.753806008|     252|   1942|    4950|    BLACK HEART SUIT|Miscellaneous Sym...|positive|\n",
            "|   😍|          0x1f60d|       6359|0.765292366|     329|   1390|    4640|SMILING FACE WITH...|           Emoticons|positive|\n",
            "|   😭|          0x1f62d|       5526|0.803351976|    2412|   1218|    1896|  LOUDLY CRYING FACE|           Emoticons|negative|\n",
            "|   😘|          0x1f618|       3648|0.854480172|     193|    702|    2753|FACE THROWING A KISS|           Emoticons| neutral|\n",
            "|   😊|          0x1f60a|       3186|0.813302436|     189|    754|    2243|SMILING FACE WITH...|           Emoticons| neutral|\n",
            "|   👌|          0x1f44c|       2925|0.805222883|     274|    728|    1923|        OK HAND SIGN|Miscellaneous Sym...| neutral|\n",
            "|   💕|          0x1f495|       2400|0.765725889|      99|    683|    1618|          TWO HEARTS|Miscellaneous Sym...|negative|\n",
            "|   👏|          0x1f44f|       2336|0.787130164|     243|    634|    1459| CLAPPING HANDS SIGN|Miscellaneous Sym...| neutral|\n",
            "|   😁|          0x1f601|       2189|0.796151187|     278|    648|    1263|GRINNING FACE WIT...|           Emoticons| neutral|\n",
            "|    ☺|           0x263a|       2062|0.798633582|     128|    449|    1485|  WHITE SMILING FACE|Miscellaneous Sym...| neutral|\n",
            "|    ♡|           0x2661|       1975|0.763695423|     102|    448|    1425|    WHITE HEART SUIT|Miscellaneous Sym...| neutral|\n",
            "|   👍|          0x1f44d|       1854|0.812125626|     213|    460|    1181|      THUMBS UP SIGN|Miscellaneous Sym...| neutral|\n",
            "|   😩|          0x1f629|       1808|0.826213985|    1069|    336|     403|          WEARY FACE|           Emoticons|positive|\n",
            "|   🙏|          0x1f64f|       1539|0.793847592|     124|    648|     767|PERSON WITH FOLDE...|           Emoticons|positive|\n",
            "|    ✌|           0x270c|       1534|0.790480332|     173|    476|     885|        VICTORY HAND|            Dingbats|positive|\n",
            "|   😏|          0x1f60f|       1522|0.764977294|     170|    676|     676|       SMIRKING FACE|           Emoticons| neutral|\n",
            "|   😉|          0x1f609|       1521|0.844832651|     151|    513|     857|        WINKING FACE|           Emoticons|positive|\n",
            "|   🙌|          0x1f64c|       1506|0.790600034|     152|    358|     996|PERSON RAISING BO...|           Emoticons|positive|\n",
            "+-----+-----------------+-----------+-----------+--------+-------+--------+--------------------+--------------------+--------+\n",
            "only showing top 20 rows\n",
            "\n"
          ]
        }
      ],
      "source": [
        "conds = when((col('Negative') > col('Neutral')) & (col('Negative') > col('Positive'))  , 'negative')\\\n",
        "            .when((col('Neutral') >= col('Negative')) & (col('Neutral') >= col('Positive'))  , 'neutral')\\\n",
        "            .when((col('Positive') > col('Negative')) & (col('Positive') > col('Neutral'))  , 'positive')\n",
        "\n",
        "df_emotions = df_emotions.withColumn('Category', conds)\n",
        "df_emotions.show()"
      ]
    },
    {
      "cell_type": "code",
      "execution_count": null,
      "metadata": {
        "id": "l-SAEJLuXy8r"
      },
      "outputs": [],
      "source": [
        "neg_emots_list = df_emotions.where(col('Category')=='negative').select('Emoji').rdd.flatMap(lambda x: x).collect()\n",
        "neu_emots_list = df_emotions.where(col('Category')=='neutral').select('Emoji').rdd.flatMap(lambda x: x).collect()\n",
        "pos_emots_list = df_emotions.where(col('Category')=='positive').select('Emoji').rdd.flatMap(lambda x: x).collect()\n",
        "\n",
        "emots_list = [*neg_emots_list, *neu_emots_list, *pos_emots_list]"
      ]
    },
    {
      "cell_type": "code",
      "execution_count": null,
      "metadata": {
        "id": "EMz0CgKNX6JW"
      },
      "outputs": [],
      "source": [
        "emots_regex = '|'.join(emots_list)"
      ]
    },
    {
      "cell_type": "code",
      "execution_count": null,
      "metadata": {
        "id": "AaQFTmgrYA-p"
      },
      "outputs": [],
      "source": [
        "emots_find = F.udf( lambda x: re.findall(emots_regex, x) if x is not None else '', returnType=ArrayType(StringType()) )"
      ]
    },
    {
      "cell_type": "code",
      "execution_count": null,
      "metadata": {
        "colab": {
          "base_uri": "https://localhost:8080/"
        },
        "id": "fHyjZmKQYDtM",
        "outputId": "b4dec2f0-fc96-4ae9-cec5-e1509bb6c665"
      },
      "outputs": [
        {
          "name": "stdout",
          "output_type": "stream",
          "text": [
            "root\n",
            " |-- date: string (nullable = true)\n",
            " |-- selftext: string (nullable = true)\n",
            " |-- emojs: array (nullable = true)\n",
            " |    |-- element: string (containsNull = true)\n",
            " |-- emojs_count: integer (nullable = false)\n",
            "\n",
            "None\n",
            "+----------+--------------------+--------------------+-----------+\n",
            "|      date|            selftext|               emojs|emojs_count|\n",
            "+----------+--------------------+--------------------+-----------+\n",
            "|2021-01-28| [removed] [remov...|[🚀, 🚀, 🚀, 💎, ...|       5689|\n",
            "|2021-01-27|MARKET MANIPULATI...|[💎, 💎, 🙌, 🙌, ...|       4574|\n",
            "|2021-01-25|[removed]  I am a...|[🚀, 🚀, 🚀, 🚀, ...|       4231|\n",
            "|2021-01-19|[removed] Listen ...|[🚀, 💎, 💎, 💎, ...|       3508|\n",
            "|2021-01-17|[deleted]  [remov...|[💎, 🙌, 🚀, 🚀, ...|       3437|\n",
            "|2021-01-01| &amp;#x200B;\\n\\n...|[🚀, 🙌, 💎, 🚀, ...|       2692|\n",
            "|2021-01-22|    [removed]  [d...|[💩, 🍋, 🌚, 🚀, ...|       2256|\n",
            "|2021-01-26|   [removed] [rem...|[💎, 🙌, 🚀, 🚀, ...|       1946|\n",
            "|2021-01-23|[removed] [remove...|[🌈, 🐻, 🚀, 🚀, ...|       1475|\n",
            "|2021-01-18| [removed] [remov...|[🚀, 🚀, 🚀, 🚀, ...|       1201|\n",
            "|2021-03-10|    Fuck you  [re...|[🚀, 🌙, 💎, 🚀, ...|        883|\n",
            "|2021-01-24| [removed]  [remo...|[🐻, 🚀, 🚀, 🚀, ...|        876|\n",
            "|2021-02-04|[removed]        ...|[💎, 🙌, 🚀, 🌙, ...|        859|\n",
            "|2021-01-29| [removed] [remov...|[🚀, 🚀, 💎, 🙌, ...|        789|\n",
            "|2021-03-11|   All you paper ...|[📄, 🙌, 🙌, 💎, ...|        784|\n",
            "|2021-01-13|[removed] [remove...|[🌈, 🐻, 🌈, 🐻, ...|        727|\n",
            "|2021-01-15|      [removed] [...|[🚀, 🚀, 🚀, 🚀, ...|        702|\n",
            "|2021-01-20|[removed]    [rem...|[💎, 🙌, 💎, 🙌, ...|        684|\n",
            "|2021-03-28|       &amp;#x200...|[💎, 💎, 💎, 💎, ...|        675|\n",
            "|2021-01-16|[deleted]  [remov...|[🚀, 🚀, 🚀, 🚀, ...|        622|\n",
            "+----------+--------------------+--------------------+-----------+\n",
            "only showing top 20 rows\n",
            "\n"
          ]
        }
      ],
      "source": [
        "emoji_dataset = df_new.select('date',\n",
        "     'selftext'\n",
        "    , emots_find('selftext').name('emojs')\n",
        ")\n",
        "\n",
        "emoji_dataset = emoji_dataset.withColumn('emojs_count', size(col('emojs'))).filter('emojs_count > 0')\n",
        "\n",
        "print(emoji_dataset.printSchema())\n",
        "emoji_dataset.sort(desc(\"emojs_count\")).show()"
      ]
    },
    {
      "cell_type": "code",
      "execution_count": null,
      "metadata": {
        "id": "WvtpsOIrUwu-"
      },
      "outputs": [],
      "source": [
        "'''\n",
        "def extract_emojs_from_column(df, column_name, emots_regex):\n",
        "  emots_find =\\\n",
        "   F.udf( lambda x: re.findall(emots_regex, x) if x is not None else '', returnType=ArrayType(StringType()) )\n",
        "  emoji_dataset = df.select(\n",
        "     column_name, \n",
        "     emots_find(column_name).name('emojs'))\n",
        "  emoji_dataset = emoji_dataset.withColumn('emojs_count', size(col('emojs'))).filter('emojs_count > 0')\n",
        "  return emoji_dataset\n",
        "'''"
      ]
    },
    {
      "cell_type": "code",
      "execution_count": null,
      "metadata": {
        "colab": {
          "base_uri": "https://localhost:8080/"
        },
        "id": "TNXKA6HeV7yT",
        "outputId": "b5863b19-9c03-43e3-8a5b-27a3014f4795"
      },
      "outputs": [
        {
          "name": "stdout",
          "output_type": "stream",
          "text": [
            "+--------------------+--------------------+-----------+\n",
            "|            selftext|               emojs|emojs_count|\n",
            "+--------------------+--------------------+-----------+\n",
            "| [removed] [remov...|[🚀, 🚀, 🚀, 💎, ...|       5689|\n",
            "|MARKET MANIPULATI...|[💎, 💎, 🙌, 🙌, ...|       4574|\n",
            "|[removed]  I am a...|[🚀, 🚀, 🚀, 🚀, ...|       4231|\n",
            "|[removed] Listen ...|[🚀, 💎, 💎, 💎, ...|       3508|\n",
            "|[deleted]  [remov...|[💎, 🙌, 🚀, 🚀, ...|       3437|\n",
            "| &amp;#x200B;\\n\\n...|[🚀, 🙌, 💎, 🚀, ...|       2692|\n",
            "|    [removed]  [d...|[💩, 🍋, 🌚, 🚀, ...|       2256|\n",
            "|   [removed] [rem...|[💎, 🙌, 🚀, 🚀, ...|       1946|\n",
            "|[removed] [remove...|[🌈, 🐻, 🚀, 🚀, ...|       1475|\n",
            "| [removed] [remov...|[🚀, 🚀, 🚀, 🚀, ...|       1201|\n",
            "|    Fuck you  [re...|[🚀, 🌙, 💎, 🚀, ...|        883|\n",
            "| [removed]  [remo...|[🐻, 🚀, 🚀, 🚀, ...|        876|\n",
            "|[removed]        ...|[💎, 🙌, 🚀, 🌙, ...|        859|\n",
            "| [removed] [remov...|[🚀, 🚀, 💎, 🙌, ...|        789|\n",
            "|   All you paper ...|[📄, 🙌, 🙌, 💎, ...|        784|\n",
            "|[removed] [remove...|[🌈, 🐻, 🌈, 🐻, ...|        727|\n",
            "|      [removed] [...|[🚀, 🚀, 🚀, 🚀, ...|        702|\n",
            "|[removed]    [rem...|[💎, 🙌, 💎, 🙌, ...|        684|\n",
            "|       &amp;#x200...|[💎, 💎, 💎, 💎, ...|        675|\n",
            "|[deleted]  [remov...|[🚀, 🚀, 🚀, 🚀, ...|        622|\n",
            "+--------------------+--------------------+-----------+\n",
            "only showing top 20 rows\n",
            "\n"
          ]
        }
      ],
      "source": [
        "test = extract_emojs_from_column(df_new, 'selftext', emots_regex)\n",
        "test.sort(desc(\"emojs_count\")).show()\n"
      ]
    },
    {
      "cell_type": "code",
      "execution_count": null,
      "metadata": {
        "id": "dPFiRshxamyD"
      },
      "outputs": [],
      "source": [
        "def count_emojs(input_df):\n",
        "  emoji_dataset_emojs = input_df.select(explode('emojs').name('emojs')).groupBy('emojs').count().sort(desc('count'))\n",
        "  return emoji_dataset_emojs"
      ]
    },
    {
      "cell_type": "code",
      "execution_count": null,
      "metadata": {
        "colab": {
          "base_uri": "https://localhost:8080/"
        },
        "id": "zZ5KNET9bUma",
        "outputId": "8508d3f6-baa5-4e06-d108-145d08abeae2"
      },
      "outputs": [
        {
          "name": "stdout",
          "output_type": "stream",
          "text": [
            "+-----+\n",
            "|emojs|\n",
            "+-----+\n",
            "|   🚀|\n",
            "|   💎|\n",
            "|   🙌|\n",
            "|   👐|\n",
            "|   🐻|\n",
            "|   🌈|\n",
            "|    ⚫|\n",
            "|   🌕|\n",
            "|    ✋|\n",
            "|   🍌|\n",
            "|   💰|\n",
            "|   🔴|\n",
            "|   🌝|\n",
            "|   🌙|\n",
            "|   💵|\n",
            "|   📈|\n",
            "|   🌚|\n",
            "|   🔥|\n",
            "|    ⚪|\n",
            "|   💥|\n",
            "+-----+\n",
            "only showing top 20 rows\n",
            "\n"
          ]
        }
      ],
      "source": [
        "number_emojs = count_emojs(emoji_dataset)\n",
        "only_emoji= number_emojs.select(\"emojs\")\n",
        "only_emoji.show()"
      ]
    },
    {
      "cell_type": "code",
      "execution_count": null,
      "metadata": {
        "id": "x1trv6-Yn7YE"
      },
      "outputs": [],
      "source": [
        "#only_emoji.toPandas().to_csv('only_emoji.csv')"
      ]
    },
    {
      "cell_type": "code",
      "execution_count": null,
      "metadata": {
        "id": "N9gMfBQNaEMB"
      },
      "outputs": [],
      "source": [
        "emoji_dataset_emojs = emoji_dataset.select(explode('emojs').name('emojs')).groupBy('emojs').count().sort(desc('count'))"
      ]
    },
    {
      "cell_type": "code",
      "execution_count": null,
      "metadata": {
        "colab": {
          "base_uri": "https://localhost:8080/"
        },
        "id": "G3hzpmSRaHO1",
        "outputId": "e907e990-d505-447b-cd50-dc6bb10d1015"
      },
      "outputs": [
        {
          "name": "stdout",
          "output_type": "stream",
          "text": [
            "+-----+-----+\n",
            "|emojs|count|\n",
            "+-----+-----+\n",
            "|   🚀|38721|\n",
            "|   💎| 3546|\n",
            "|   🙌| 1651|\n",
            "|   👐|  493|\n",
            "|   🐻|  416|\n",
            "|   🌈|  397|\n",
            "|    ⚫|  341|\n",
            "|   🌕|  313|\n",
            "|    ✋|  266|\n",
            "|   🍌|  234|\n",
            "|   💰|  167|\n",
            "|   🔴|  166|\n",
            "|   🌝|  164|\n",
            "|   🌙|  161|\n",
            "|   💵|  154|\n",
            "|   📈|  145|\n",
            "|   🌚|  125|\n",
            "|   🔥|  116|\n",
            "|    ⚪|  112|\n",
            "|   💥|  108|\n",
            "+-----+-----+\n",
            "only showing top 20 rows\n",
            "\n"
          ]
        }
      ],
      "source": [
        "emoji_dataset_emojs.show()"
      ]
    },
    {
      "cell_type": "code",
      "execution_count": null,
      "metadata": {
        "id": "4R2hkUxgrgDx"
      },
      "outputs": [],
      "source": [
        "emoji_val = spark.read.option(\"header\", \"true\").csv('emojies_data/emoj_val.csv')"
      ]
    },
    {
      "cell_type": "code",
      "execution_count": null,
      "metadata": {
        "colab": {
          "base_uri": "https://localhost:8080/"
        },
        "id": "iTp_BuQErw8I",
        "outputId": "43465f6a-a68e-4017-9296-b2cd30e47dd9"
      },
      "outputs": [
        {
          "name": "stdout",
          "output_type": "stream",
          "text": [
            "+-----+-----+-----+\n",
            "|indec|emojs|value|\n",
            "+-----+-----+-----+\n",
            "|    0|   🚀|    1|\n",
            "|    1|   💎|    1|\n",
            "|    2|   🙌|    1|\n",
            "|    3|   👐|    1|\n",
            "|    4|   🐻|   -1|\n",
            "|    5|   🌈|    1|\n",
            "|    6|    ⚫|   -1|\n",
            "|    7|   🌕|    1|\n",
            "|    8|    ✋|    1|\n",
            "|    9|   🍌|    0|\n",
            "|   10|   💰|    1|\n",
            "|   11|   🔴|   -1|\n",
            "|   12|   🌝|    1|\n",
            "|   13|   🌙|    1|\n",
            "|   14|   💵|    1|\n",
            "|   15|   📈|    1|\n",
            "|   16|   🌚|    1|\n",
            "|   17|   🔥|    1|\n",
            "|   18|    ⚪|    1|\n",
            "|   19|   💥|    1|\n",
            "+-----+-----+-----+\n",
            "only showing top 20 rows\n",
            "\n"
          ]
        }
      ],
      "source": [
        "emoji_val.show()"
      ]
    },
    {
      "cell_type": "code",
      "execution_count": null,
      "metadata": {
        "colab": {
          "base_uri": "https://localhost:8080/"
        },
        "id": "Syqdq1vVsKpm",
        "outputId": "79f3f8d8-1c81-45c6-e431-b296e6f43023"
      },
      "outputs": [
        {
          "name": "stdout",
          "output_type": "stream",
          "text": [
            "+----------+--------------------+--------------------+-----------+\n",
            "|      date|            selftext|               emojs|emojs_count|\n",
            "+----------+--------------------+--------------------+-----------+\n",
            "|2021-01-28| [removed] [remov...|[🚀, 🚀, 🚀, 💎, ...|       5689|\n",
            "|2021-01-27|MARKET MANIPULATI...|[💎, 💎, 🙌, 🙌, ...|       4574|\n",
            "|2021-01-25|[removed]  I am a...|[🚀, 🚀, 🚀, 🚀, ...|       4231|\n",
            "|2021-01-19|[removed] Listen ...|[🚀, 💎, 💎, 💎, ...|       3508|\n",
            "|2021-01-17|[deleted]  [remov...|[💎, 🙌, 🚀, 🚀, ...|       3437|\n",
            "|2021-01-01| &amp;#x200B;\\n\\n...|[🚀, 🙌, 💎, 🚀, ...|       2692|\n",
            "|2021-01-22|    [removed]  [d...|[💩, 🍋, 🌚, 🚀, ...|       2256|\n",
            "|2021-01-26|   [removed] [rem...|[💎, 🙌, 🚀, 🚀, ...|       1946|\n",
            "|2021-01-23|[removed] [remove...|[🌈, 🐻, 🚀, 🚀, ...|       1475|\n",
            "|2021-01-18| [removed] [remov...|[🚀, 🚀, 🚀, 🚀, ...|       1201|\n",
            "|2021-03-10|    Fuck you  [re...|[🚀, 🌙, 💎, 🚀, ...|        883|\n",
            "|2021-01-24| [removed]  [remo...|[🐻, 🚀, 🚀, 🚀, ...|        876|\n",
            "|2021-02-04|[removed]        ...|[💎, 🙌, 🚀, 🌙, ...|        859|\n",
            "|2021-01-29| [removed] [remov...|[🚀, 🚀, 💎, 🙌, ...|        789|\n",
            "|2021-03-11|   All you paper ...|[📄, 🙌, 🙌, 💎, ...|        784|\n",
            "|2021-01-13|[removed] [remove...|[🌈, 🐻, 🌈, 🐻, ...|        727|\n",
            "|2021-01-15|      [removed] [...|[🚀, 🚀, 🚀, 🚀, ...|        702|\n",
            "|2021-01-20|[removed]    [rem...|[💎, 🙌, 💎, 🙌, ...|        684|\n",
            "|2021-03-28|       &amp;#x200...|[💎, 💎, 💎, 💎, ...|        675|\n",
            "|2021-01-16|[deleted]  [remov...|[🚀, 🚀, 🚀, 🚀, ...|        622|\n",
            "+----------+--------------------+--------------------+-----------+\n",
            "only showing top 20 rows\n",
            "\n"
          ]
        }
      ],
      "source": [
        "emoji_dataset.sort(desc(\"emojs_count\")).show()"
      ]
    },
    {
      "cell_type": "code",
      "execution_count": null,
      "metadata": {
        "id": "xXQ_j0cTtEHw"
      },
      "outputs": [],
      "source": [
        "emojs_dict = { row['emojs']: row['value'] for row in emoji_val.collect() }"
      ]
    },
    {
      "cell_type": "code",
      "execution_count": null,
      "metadata": {
        "id": "9BjIwECSs3AF"
      },
      "outputs": [],
      "source": [
        "from pyspark.sql.types import StringType\n",
        "from pyspark.sql.functions import udf\n",
        "\n",
        "def translate(mapping):\n",
        "    def translate_(col):\n",
        "        return mapping(col)\n",
        "    return udf(translate_, StringType())\n",
        "\n",
        "\n",
        "\n",
        "emoji_dataset_new = emoji_dataset.withColumn(\"emoj_values\", translate(lambda x: [emojs_dict[i] for i in x])(\"emojs\"))"
      ]
    },
    {
      "cell_type": "code",
      "execution_count": null,
      "metadata": {
        "id": "ZcYlsNNOvmd9"
      },
      "outputs": [],
      "source": [
        "emoji_dataset_new = emoji_dataset_new.withColumn(\"emoj_sum\", translate(lambda x: sum([float(i) for i in x]))(\"emoj_values\"))"
      ]
    },
    {
      "cell_type": "code",
      "execution_count": null,
      "metadata": {
        "id": "8lzwnWIKv0W9"
      },
      "outputs": [],
      "source": [
        "emoji_dataset_new = emoji_dataset_new.withColumn(\"emoj_avg\", translate(lambda x: sum([float(i) for i in x])/len(x))(\"emoj_values\"))"
      ]
    },
    {
      "cell_type": "code",
      "execution_count": null,
      "metadata": {
        "colab": {
          "base_uri": "https://localhost:8080/"
        },
        "id": "yzy_XEe-txeg",
        "outputId": "b784b4bc-3778-4b57-d5a4-f6eff8876f38"
      },
      "outputs": [
        {
          "name": "stdout",
          "output_type": "stream",
          "text": [
            "+----------+--------------------+--------------------+-----------+--------------------+--------------------+--------+\n",
            "|      date|            selftext|               emojs|emojs_count|         emoj_values|            emoj_avg|emoj_sum|\n",
            "+----------+--------------------+--------------------+-----------+--------------------+--------------------+--------+\n",
            "|2021-01-15|      [removed] [...|[🚀, 🚀, 🚀, 🚀, ...|        702|[1, 1, 1, 1, 1, 1...|  0.9301994301994302|   653.0|\n",
            "|2021-03-11|   All you paper ...|[📄, 🙌, 🙌, 💎, ...|        784|[0, 1, 1, 1, 1, 1...|  0.9107142857142857|   714.0|\n",
            "|2021-01-23|[removed] [remove...|[🌈, 🐻, 🚀, 🚀, ...|       1475|[1, -1, 1, 1, 1, ...|  0.9620338983050848|  1419.0|\n",
            "|2021-12-02|    I have no way...|        [💎, 💎, 💎]|          3|           [1, 1, 1]|                 1.0|     3.0|\n",
            "|2021-02-25| [removed] [delet...|[🚀, 🚀, 🚀, 🚀, ...|         81|[1, 1, 1, 1, 1, 1...|  0.9876543209876543|    80.0|\n",
            "|2021-02-22|   [removed] [rem...|[🚀, 🚀, 🚀, 🌈, ...|         17|[1, 1, 1, 1, -1, ...|  0.8823529411764706|    15.0|\n",
            "|2021-02-23|   [removed]     ...|[🚀, 🚀, 💎, 😄, ...|         20|[1, 1, 1, 1, 0, 1...|                0.65|    13.0|\n",
            "|2020-03-27|Stay strong my 🌈...|            [🌈, 🐻]|          2|             [1, -1]|                 0.0|     0.0|\n",
            "|2021-04-24|   [removed]   I ...|[🚀, 🚀, 🚀, 🚀, ...|         10|[1, 1, 1, 1, 1, 1...|                 1.0|    10.0|\n",
            "|2021-06-21| Just a confirmat...|[💎, 🙌, 💎, 🙌, ...|          9|[1, 1, 1, 1, 1, 1...|                 1.0|     9.0|\n",
            "|2021-03-29|  [removed] [remo...|[🚀, 🚀, 🚀, 🚀, ...|         55|[1, 1, 1, 1, 1, 1...|                 1.0|    55.0|\n",
            "|2021-01-08|  [removed] [dele...|[🚀, 🚀, 🚀, 🚀, ...|        112|[1, 1, 1, 1, 1, 1...|                 1.0|   112.0|\n",
            "|2020-12-31|   What happened ...|[💎, 🌈, 🐻, 🚀, ...|        139|[1, 1, -1, 1, 1, ...|  0.8776978417266187|   122.0|\n",
            "|2022-03-31| [removed]  [remo...|[🌝, 🚀, 🚀, 🚀, ...|         31|[1, 1, 1, 1, 1, 1...|                 1.0|    31.0|\n",
            "|2021-03-02|So loving this GM...|[🚀, 🚀, 🚀, 🚀, ...|        131|[1, 1, 1, 1, 1, 1...|  0.8931297709923665|   117.0|\n",
            "|2022-05-02| [removed] [remov...|            [💎, 🙌]|          2|              [1, 1]|                 1.0|     2.0|\n",
            "|2021-09-02| [removed] Hello ...|[🚀, 🚀, 🚀, 💥, ...|          7|[1, 1, 1, 1, 1, 1...|                 1.0|     7.0|\n",
            "|2021-08-10|[removed]    So h...|              [✨, ✨]|          2|              [1, 1]|                 1.0|     2.0|\n",
            "|2020-12-05|  PS5 being fire ...|[🚀, 🚀, 🚀, 🚀, ...|          6|  [1, 1, 1, 1, 1, 1]|                 1.0|     6.0|\n",
            "|2021-08-23|[removed]        ...|[🚀, 🌈, 🐻, 🚀, ...|         11|[1, 1, -1, 1, 1, ...|  0.8181818181818182|     9.0|\n",
            "|2021-04-28|  [removed] [dele...|                [😍]|          1|                 [1]|                 1.0|     1.0|\n",
            "|2021-09-17| Buy and hold and...|[💰, 💰, 💰, 💎, ...|         37|[1, 1, 1, 1, 1, 1...| 0.40540540540540543|    15.0|\n",
            "|2021-03-09|[removed] With ho...|[🌈, 🐻, 😂, 🚀, ...|        318|[1, -1, 1, 1, 1, ...|  0.7295597484276729|   232.0|\n",
            "|2021-01-28| [removed] [remov...|[🚀, 🚀, 🚀, 💎, ...|       5689|[1, 1, 1, 1, 1, 1...|  0.9407628757250835|  5352.0|\n",
            "|2021-06-01|[The GME Story - ...|            [😭, 😊]|          2|             [-1, 1]|                 0.0|     0.0|\n",
            "|2021-06-08|         [removed...|[🚀, 🐻, 🚀, 🚀, ...|         22|[1, -1, 1, 1, 1, ...|  0.9090909090909091|    20.0|\n",
            "|2021-10-06|   I'll get strai...|[🌙, 💎, 😉, 🌙, 😉]|          5|     [1, 1, 1, 1, 1]|                 1.0|     5.0|\n",
            "|2022-01-01|Holy shit what a ...|[💎, 🚀, 🎉, 💎, ...|          9|[1, 1, 1, 1, 1, 1...|                 1.0|     9.0|\n",
            "|2020-12-02|To all the GME FO...|[💎, 👏, 🚀, 🚀, ...|         10|[1, 1, 1, 1, 1, 1...|                 1.0|    10.0|\n",
            "|2021-05-16|I appreciate that...|        [🍌, 🚀, 🚀]|          3|           [0, 1, 1]|  0.6666666666666666|     2.0|\n",
            "|2021-06-13|  I am not unders...|[💪, 💪, 💪, 🚀, ...|        615|[1, 1, 1, 1, 1, 1...|  0.9934959349593496|   611.0|\n",
            "|2021-01-31| [removed] [remov...|[🚀, 🚀, 🚀, 💎, ...|        386|[1, 1, 1, 1, 1, 1...|  0.8341968911917098|   322.0|\n",
            "|2021-11-22|[removed] I don't...|                [📷]|          1|                 [0]|                 0.0|     0.0|\n",
            "|2020-12-15|  I bought some A...|[🌝, 💎, 🚀, 🚀, 🚀]|          5|     [1, 1, 1, 1, 1]|                 1.0|     5.0|\n",
            "|2021-02-21|&amp;#x200B;\\n\\nh...|[💎, 🙌, 🚀, 🚀, ...|        144|[1, 1, 1, 1, 1, 1...|  0.9861111111111112|   142.0|\n",
            "|2022-01-25|   [removed]  Guy...|        [😂, 🌕, 🚀]|          3|           [1, 1, 1]|                 1.0|     3.0|\n",
            "|2021-09-24| Vows in the vide...|                [🚀]|          1|                 [1]|                 1.0|     1.0|\n",
            "|2020-11-27|What determines a...|[🚀, 🚀, 🚀, 🚀, ...|        138|[1, 1, 1, 1, 1, 1...|   0.855072463768116|   118.0|\n",
            "|2022-04-01|[removed]       G...|                [📷]|          1|                 [0]|                 0.0|     0.0|\n",
            "|2020-12-26|I think people sh...|[🚀, 🚀, 🚀, 🚀, ...|        126|[1, 1, 1, 1, 1, 1...|  0.9365079365079365|   118.0|\n",
            "|2022-04-02|[removed]    [rem...|[🎯, 🎯, 🎯, 🎯, ...|         17|[1, 1, 1, 1, 1, -...| 0.35294117647058826|     6.0|\n",
            "|2021-06-09|  https://fintel....|[🚀, 🚀, 🚀, 🚀, ...|         46|[1, 1, 1, 1, 1, 1...|  0.8043478260869565|    37.0|\n",
            "|2021-01-25|[removed]  I am a...|[🚀, 🚀, 🚀, 🚀, ...|       4231|[1, 1, 1, 1, 1, 1...|  0.8156464192862207|  3451.0|\n",
            "|2021-02-10|[removed]    [rem...|[🌈, 🐻, 🌈, 🐻, ...|         31|[1, -1, 1, -1, 1,...|  0.8709677419354839|    27.0|\n",
            "|2021-03-15|   [removed]  [de...|[😐, 😎, 🚀, 🚀, ...|        154|[0, 1, 1, 1, 1, 1...|  0.7077922077922078|   109.0|\n",
            "|2021-01-02| Brand new invest...|[🚀, 🚀, 🚀, 🚀, ...|         50|[1, 1, 1, 1, 1, 1...|                0.96|    48.0|\n",
            "|2021-08-07|I know it isn’t a...|            [🍀, 🍀]|          2|              [1, 1]|                 1.0|     2.0|\n",
            "|2022-05-08|  # Economic Cale...|                [🌝]|          1|                 [1]|                 1.0|     1.0|\n",
            "|2021-04-17|      [removed]  ...|[🚀, 🚀, 🚀, 🚀, ...|         16|[1, 1, 1, 1, 1, 1...|                 1.0|    16.0|\n",
            "|2022-01-09|    [removed]  We...|        [💎, 💎, 💎]|          3|           [1, 1, 1]|                 1.0|     3.0|\n",
            "|2021-09-30| DATS and CEI are...|                 [✊]|          1|                 [1]|                 1.0|     1.0|\n",
            "|2020-12-30|  To the 💎🙌 who...|[💎, 🙌, 🌈, 🐻, ...|        110|[1, 1, 1, -1, 1, ...|  0.9272727272727272|   102.0|\n",
            "|2021-04-07|   Just put £100,...|[🚀, 🚀, 🚀, 🚀, ...|         16|[1, 1, 1, 1, 1, 1...|              0.9375|    15.0|\n",
            "|2020-12-07|  Do you have GME...|[💎, 🙌, 💎, 🍆, ...|         31|[1, 1, 1, 0, 1, 1...|   0.967741935483871|    30.0|\n",
            "|2021-02-26|[removed] [remove...|[🚀, 🚀, 🚀, 🚀, ...|         37|[1, 1, 1, 1, 1, 1...|  0.9459459459459459|    35.0|\n",
            "|2021-07-15| I was struggling...|[😂, 😂, 😂, 🚀, ...|         52|[1, 1, 1, 1, 1, 1...|  0.9230769230769231|    48.0|\n",
            "|2021-05-27|[removed]    [rem...|[🚀, 🚀, 🚀, 🚀, ...|         46|[1, 1, 1, 1, 1, 1...|                 1.0|    46.0|\n",
            "|2022-01-07|     I am loading...|            [🚀, 🌽]|          2|              [1, 0]|                 0.5|     1.0|\n",
            "|2020-12-01|Bought the top, b...|[🌑, ☑, ☑, ☑, ☑, ...|        209|[1, 1, 1, 1, 1, 1...|  0.9760765550239234|   204.0|\n",
            "|2021-12-17| ***GameStop on F...|[✈, 🚀, 🚀, 🚀, ?...|          9|[1, 1, 1, 1, 1, 1...|                 1.0|     9.0|\n",
            "|2021-01-03|I’m going to hang...|            [🌈, 🐻]|          2|             [1, -1]|                 0.0|     0.0|\n",
            "|2021-03-04|[removed]   [remo...|[💎, 🚀, 💎, 🚀, ...|         50|[1, 1, 1, 1, 1, 1...|                0.84|    42.0|\n",
            "|2021-02-18|   Honestly, GME ...|[🚀, 🚀, 🚀, 🚀, ...|         77|[1, 1, 1, 1, 1, 1...|  0.8051948051948052|    62.0|\n",
            "|2021-11-17|**WSB PSA:**\\n\\nD...|[💥, 🚀, 💫, 💥, ...|        260|[1, 1, 1, 1, 1, 1...|  0.9692307692307692|   252.0|\n",
            "|2021-10-20|  [removed] [remo...|                [🚀]|          1|                 [1]|                 1.0|     1.0|\n",
            "|2020-10-30|   Does it make s...|[❤, 😃, 🔫, 🔪, ?...|          7|[1, 1, -1, -1, 1,...| 0.14285714285714285|     1.0|\n",
            "|2020-12-09|[removed] [remove...|[🐝, 🚀, 🚀, 💎, ...|         23|[0, 1, 1, 1, 1, 1...|  0.9565217391304348|    22.0|\n",
            "|2020-11-29| I've been seeing...|[🚀, 🚀, 🚀, 🚀, ...|         20|[1, 1, 1, 1, 1, 1...|                0.85|    17.0|\n",
            "|2021-03-10|    Fuck you  [re...|[🚀, 🌙, 💎, 🚀, ...|        883|[1, 1, 1, 1, 1, 1...|  0.8867497168742922|   783.0|\n",
            "|2021-02-12|  [removed]    [r...|[✋, 💎, 🚀, 🚀, ?...|         17|[1, 1, 1, 1, 1, 1...|                 1.0|    17.0|\n",
            "|2020-11-30|What’s everyone’s...|[🚀, 🚀, 🚀, 🚀, ...|         81|[1, 1, 1, 1, -1, ...|  0.8888888888888888|    72.0|\n",
            "|2021-03-12| So, first of all...|[🚀, 🚀, 🚀, 🚀, ...|        230|[1, 1, 1, 1, 1, 1...|  0.7956521739130434|   183.0|\n",
            "|2021-01-06|   As we've seen,...|[💎, ✋, 🌈, 🐻, ?...|         37|[1, 1, 1, -1, 1, ...|  0.9459459459459459|    35.0|\n",
            "|2021-11-13| I was just wonde...|[🚀, 🚀, 🚀, 🚀, ...|         12|[1, 1, 1, 1, 1, 1...|                 1.0|    12.0|\n",
            "|2021-03-28|       &amp;#x200...|[💎, 💎, 💎, 💎, ...|        675|[1, 1, 1, 1, 1, 1...|-0.49925925925925924|  -337.0|\n",
            "|2021-01-19|[removed] Listen ...|[🚀, 💎, 💎, 💎, ...|       3508|[1, 1, 1, 1, 1, 1...|  0.9603762827822121|  3369.0|\n",
            "|2021-02-14|[removed]  [remov...|[💎, 🙌, 📷, 📷, ...|         50|[1, 1, 0, 0, 0, 0...|                0.04|     2.0|\n",
            "|2021-01-12| We all know that...|[🌈, 🐻, 🌈, 🐻, ...|        228|[1, -1, 1, -1, 1,...|  0.9078947368421053|   207.0|\n",
            "|2021-04-18|If 11 people boug...|[🗿, 🚀, 🚀, 🚀, ...|         17|[-1, 1, 1, 1, 1, ...|  0.8235294117647058|    14.0|\n",
            "|2021-03-17| [deleted] [delet...|[💎, 🌚, 🚀, 💵, ...|        150|[1, 1, 1, 1, 1, 1...|  0.9933333333333333|   149.0|\n",
            "|2021-07-14|Had to post again...|    [👊, 🍌, 🚀, 🌕]|          4|        [1, 0, 1, 1]|                0.75|     3.0|\n",
            "|2021-03-30| Hello,\\nFellow A...|[🚀, 🚀, 🚀, 🚀, ...|         32|[1, 1, 1, 1, 1, 1...|             0.96875|    31.0|\n",
            "|2021-01-22|    [removed]  [d...|[💩, 🍋, 🌚, 🚀, ...|       2256|[-1, 1, 1, 1, 1, ...|  0.9725177304964538|  2194.0|\n",
            "|2021-10-13|## TLDR\\n\\nTwo we...|[🚀, 🚀, 🚀, 🚀, ...|          6|  [1, 1, 1, 1, 1, 1]|                 1.0|     6.0|\n",
            "|2021-04-29| [removed]   [rem...|[❤, 🚀, 🚀, 🚀, ?...|          8|[1, 1, 1, 1, 1, 1...|                 1.0|     8.0|\n",
            "|2022-01-29|  [removed]  \\nHo...|[🚀, 🚀, 🚀, 🚀, ...|          6|  [1, 1, 1, 1, 1, 1]|                 1.0|     6.0|\n",
            "|2020-10-28|[https://gyazo.co...|[🍞, 🍞, 🍞, 🚀, ...|          6|  [1, 1, 1, 1, 1, 1]|                 1.0|     6.0|\n",
            "|2021-12-30|    [removed] [re...|    [💎, 👐, 🚀, 🌚]|          4|        [1, 1, 1, 1]|                 1.0|     4.0|\n",
            "|2022-04-04|   I hope we're n...|[✌, ✌, 🚀, 🚀, 🚀...|          6|  [1, 1, 1, 1, 1, 1]|                 1.0|     6.0|\n",
            "|2021-05-07|If you’re on wall...|[🚀, 🚀, 🚀, 🐵, 🐒]|          5|   [1, 1, 1, -1, -1]|                 0.2|     1.0|\n",
            "|2020-12-04|Sup faggots.  Ill...|[🚀, 🚀, 🚀, 🚀, ...|         34|[1, 1, 1, 1, 1, 1...|                 1.0|    34.0|\n",
            "|2021-02-09|[removed] [remove...|[🐷, 💩, 💎, 🙌, ...|         66|[-1, -1, 1, 1, -1...|  0.6666666666666666|    44.0|\n",
            "|2020-12-23|   **Do you remem...|[🇺, 🇸, 📈, 📈, ...|         91|[0, 1, 1, 1, 1, 1...|   0.967032967032967|    88.0|\n",
            "|2022-04-05|[removed]  [remov...|          [⏰, 💥, ✌]|          3|           [0, 1, 1]|  0.6666666666666666|     2.0|\n",
            "|2022-01-17|This guy sounds i...|                [💩]|          1|                [-1]|                -1.0|    -1.0|\n",
            "|2021-02-16|[removed] [remove...|[♥, ♥, ♥, ♥, ♥, ♥...|         24|[1, 1, 1, 1, 1, 1...|                 1.0|    24.0|\n",
            "|2020-09-22|[**New 13D/A Form...|                [😊]|          1|                 [1]|                 1.0|     1.0|\n",
            "|2021-04-04|[removed] [remove...|[👐, 💎, 💎, 👐, ...|          9|[1, 1, 1, 1, 1, 1...|                 1.0|     9.0|\n",
            "|2022-03-24|       There are ...|[🚀, 💎, 🍌, 🎯, ...|          9|[1, 1, 0, 1, 1, 1...|  0.7777777777777778|     7.0|\n",
            "|2020-11-20|    Ban me if GME...|            [🌈, 🐻]|          2|             [1, -1]|                 0.0|     0.0|\n",
            "+----------+--------------------+--------------------+-----------+--------------------+--------------------+--------+\n",
            "only showing top 100 rows\n",
            "\n"
          ]
        }
      ],
      "source": [
        "emoji_dataset_new.show(100)"
      ]
    },
    {
      "cell_type": "code",
      "execution_count": null,
      "metadata": {
        "id": "NrzefjFG7kTX"
      },
      "outputs": [],
      "source": [
        "emoji_dataset_new = emoji_dataset_new.drop(\"selftext\")"
      ]
    },
    {
      "cell_type": "code",
      "execution_count": null,
      "metadata": {
        "id": "FHQETvkN76sg"
      },
      "outputs": [],
      "source": [
        "emoji_dataset_new = emoji_dataset_new.drop(\"emoj_values\")"
      ]
    },
    {
      "cell_type": "code",
      "execution_count": null,
      "metadata": {
        "colab": {
          "base_uri": "https://localhost:8080/"
        },
        "id": "8-BMFG-28COE",
        "outputId": "2aa3f496-3492-446e-e6e7-f887ca32ca18"
      },
      "outputs": [
        {
          "name": "stdout",
          "output_type": "stream",
          "text": [
            "+----------+--------------------+-----------+------------------+--------+\n",
            "|      date|               emojs|emojs_count|          emoj_avg|emoj_sum|\n",
            "+----------+--------------------+-----------+------------------+--------+\n",
            "|2021-01-15|[🚀, 🚀, 🚀, 🚀, ...|        702|0.9301994301994302|   653.0|\n",
            "|2021-03-11|[📄, 🙌, 🙌, 💎, ...|        784|0.9107142857142857|   714.0|\n",
            "|2021-01-23|[🌈, 🐻, 🚀, 🚀, ...|       1475|0.9620338983050848|  1419.0|\n",
            "|2021-12-02|        [💎, 💎, 💎]|          3|               1.0|     3.0|\n",
            "|2021-02-25|[🚀, 🚀, 🚀, 🚀, ...|         81|0.9876543209876543|    80.0|\n",
            "|2021-02-22|[🚀, 🚀, 🚀, 🌈, ...|         17|0.8823529411764706|    15.0|\n",
            "|2021-02-23|[🚀, 🚀, 💎, 😄, ...|         20|              0.65|    13.0|\n",
            "|2020-03-27|            [🌈, 🐻]|          2|               0.0|     0.0|\n",
            "|2021-04-24|[🚀, 🚀, 🚀, 🚀, ...|         10|               1.0|    10.0|\n",
            "|2021-06-21|[💎, 🙌, 💎, 🙌, ...|          9|               1.0|     9.0|\n",
            "|2021-03-29|[🚀, 🚀, 🚀, 🚀, ...|         55|               1.0|    55.0|\n",
            "|2021-01-08|[🚀, 🚀, 🚀, 🚀, ...|        112|               1.0|   112.0|\n",
            "|2020-12-31|[💎, 🌈, 🐻, 🚀, ...|        139|0.8776978417266187|   122.0|\n",
            "|2022-03-31|[🌝, 🚀, 🚀, 🚀, ...|         31|               1.0|    31.0|\n",
            "|2021-03-02|[🚀, 🚀, 🚀, 🚀, ...|        131|0.8931297709923665|   117.0|\n",
            "|2022-05-02|            [💎, 🙌]|          2|               1.0|     2.0|\n",
            "|2021-09-02|[🚀, 🚀, 🚀, 💥, ...|          7|               1.0|     7.0|\n",
            "|2021-08-10|              [✨, ✨]|          2|               1.0|     2.0|\n",
            "|2020-12-05|[🚀, 🚀, 🚀, 🚀, ...|          6|               1.0|     6.0|\n",
            "|2021-08-23|[🚀, 🌈, 🐻, 🚀, ...|         11|0.8181818181818182|     9.0|\n",
            "+----------+--------------------+-----------+------------------+--------+\n",
            "only showing top 20 rows\n",
            "\n"
          ]
        }
      ],
      "source": [
        "emoji_dataset_new.show()"
      ]
    },
    {
      "cell_type": "code",
      "execution_count": null,
      "metadata": {
        "id": "hSjGqT3Y6_GB"
      },
      "outputs": [],
      "source": [
        "emoji_dataset_new.toPandas().to_csv('emoji_dataset_new.csv')"
      ]
    }
  ],
  "metadata": {
    "colab": {
      "name": "Emoji_analysis.ipynb",
      "provenance": []
    },
    "kernelspec": {
      "display_name": "Python 3",
      "name": "python3"
    },
    "language_info": {
      "name": "python"
    }
  },
  "nbformat": 4,
  "nbformat_minor": 0
}
